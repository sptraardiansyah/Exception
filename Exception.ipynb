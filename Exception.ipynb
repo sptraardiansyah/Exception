{
 "cells": [
  {
   "cell_type": "code",
   "execution_count": 27,
   "id": "004757e4-4fc8-4df5-96a4-13cb0db1b3e4",
   "metadata": {},
   "outputs": [
    {
     "name": "stdin",
     "output_type": "stream",
     "text": [
      "Angka 1: 22\n",
      "Angka 2: 2\n",
      "Operator (+,-,*,/): +\n"
     ]
    },
    {
     "name": "stdout",
     "output_type": "stream",
     "text": [
      "Hasil : 24\n",
      "Proses Perhitungan selesai dikerjakan!!\n"
     ]
    }
   ],
   "source": [
    "angka1 = int(input('Angka 1:'))\n",
    "angka2 = int(input('Angka 2:'))\n",
    "operator = input(\"Operator (+,-,*,/):\")\n",
    "hasil = 0\n",
    "\n",
    "try:\n",
    "    if operator ==\"+\":\n",
    "        hasil = angka1 + angka2\n",
    "    elif operator ==\"-\":\n",
    "        hasil = angka1 - angka2\n",
    "    elif operator ==\"*\":\n",
    "        hasil = angka1 * angka2\n",
    "    elif operator ==\"/\":\n",
    "        hasil = angka1 / angka2\n",
    "    else:\n",
    "        hasil = \"Operator Salah!!\"\n",
    "except ZeroDivisionError:\n",
    "    print(\"Tidak diperbolehkan pembagian dengan 0\")\n",
    "else:\n",
    "    print(f\"Hasil : {hasil}\")\n",
    "finally:\n",
    "    print(\"Proses Perhitungan selesai dikerjakan!!\")"
   ]
  },
  {
   "cell_type": "code",
   "execution_count": 29,
   "id": "44e014e3-dee6-46fa-9f75-ac466eb3a0ed",
   "metadata": {},
   "outputs": [
    {
     "name": "stdin",
     "output_type": "stream",
     "text": [
      "Angka 1: 99\n",
      "Angka 2: 0\n",
      "Operator (+,-,*,/): /\n"
     ]
    },
    {
     "name": "stdout",
     "output_type": "stream",
     "text": [
      "Terdapat Kesalahan: division by zero\n",
      "Tidak diperbolehkan pembagian dengan 0\n",
      "Proses Perhitungan selesai dikerjakan!!\n"
     ]
    }
   ],
   "source": [
    "angka1 = int(input('Angka 1:'))\n",
    "angka2 = int(input('Angka 2:'))\n",
    "operator = input(\"Operator (+,-,*,/):\")\n",
    "hasil = 0\n",
    "\n",
    "try:\n",
    "    if operator ==\"+\":\n",
    "        hasil = angka1 + angka2\n",
    "    elif operator ==\"-\":\n",
    "        hasil = angka1 - angka2\n",
    "    elif operator ==\"*\":\n",
    "        hasil = angka1 * angka2\n",
    "    elif operator ==\"/\":\n",
    "        hasil = angka1 / angka2\n",
    "    else:\n",
    "        hasil = \"Operator Salah!!\"\n",
    "except (ZeroDivisionError,ValueError) as err:\n",
    "    print(\"Terdapat Kesalahan:\",err)\n",
    "else:\n",
    "    print(f\"Hasil : {hasil}\")\n",
    "finally:\n",
    "    print(\"Proses Perhitungan selesai dikerjakan!!\")"
   ]
  },
  {
   "cell_type": "code",
   "execution_count": null,
   "id": "49f9be44-c619-4ed7-91c9-bdf4ed3b68e4",
   "metadata": {},
   "outputs": [],
   "source": [
    "#IndexError -> LIST\n",
    "\n",
    "jumlahData = int(input(\"Banyak Data:\"))\n",
    "data = []\n",
    "for i in range (0,jumlahData):\n",
    "    nilai = int(input(\"Isikan Nilai Siswa:\"))\n",
    "    data.append(nilai)\n",
    "\n",
    "showData = int(input(\"Tampilkan data urutan ke berapa :\"))\n",
    "print(data[showData-1])\n",
    "except ValueError:\n",
    "    print(\"input harus angka!!\")\n",
    "except"
   ]
  },
  {
   "cell_type": "code",
   "execution_count": 13,
   "id": "35817f6a-ca7a-4d88-9300-d8508bcdaa87",
   "metadata": {},
   "outputs": [
    {
     "name": "stdin",
     "output_type": "stream",
     "text": [
      "Isikan Umur: 17\n"
     ]
    },
    {
     "name": "stdout",
     "output_type": "stream",
     "text": [
      "Cek Umur selesai dikerjakan!!\n"
     ]
    },
    {
     "ename": "NameError",
     "evalue": "name 'UnurException' is not defined",
     "output_type": "error",
     "traceback": [
      "\u001b[1;31m---------------------------------------------------------------------------\u001b[0m",
      "\u001b[1;31mNameError\u001b[0m                                 Traceback (most recent call last)",
      "Cell \u001b[1;32mIn[13], line 13\u001b[0m\n\u001b[0;32m     12\u001b[0m     umur \u001b[38;5;241m=\u001b[39m \u001b[38;5;28mint\u001b[39m(\u001b[38;5;28minput\u001b[39m(\u001b[38;5;124m\"\u001b[39m\u001b[38;5;124mIsikan Umur:\u001b[39m\u001b[38;5;124m\"\u001b[39m))\n\u001b[1;32m---> 13\u001b[0m     cekUmur(umur)\n\u001b[0;32m     14\u001b[0m \u001b[38;5;28;01mexcept\u001b[39;00m (\u001b[38;5;167;01mValueError\u001b[39;00m,UnurException) \u001b[38;5;28;01mas\u001b[39;00m err:\n",
      "\u001b[1;31mNameError\u001b[0m: name 'cekUmur' is not defined",
      "\nDuring handling of the above exception, another exception occurred:\n",
      "\u001b[1;31mNameError\u001b[0m                                 Traceback (most recent call last)",
      "Cell \u001b[1;32mIn[13], line 14\u001b[0m\n\u001b[0;32m     12\u001b[0m     umur \u001b[38;5;241m=\u001b[39m \u001b[38;5;28mint\u001b[39m(\u001b[38;5;28minput\u001b[39m(\u001b[38;5;124m\"\u001b[39m\u001b[38;5;124mIsikan Umur:\u001b[39m\u001b[38;5;124m\"\u001b[39m))\n\u001b[0;32m     13\u001b[0m     cekUmur(umur)\n\u001b[1;32m---> 14\u001b[0m \u001b[38;5;28;01mexcept\u001b[39;00m (\u001b[38;5;167;01mValueError\u001b[39;00m,UnurException) \u001b[38;5;28;01mas\u001b[39;00m err:\n\u001b[0;32m     15\u001b[0m     \u001b[38;5;28mprint\u001b[39m(\u001b[38;5;124m\"\u001b[39m\u001b[38;5;124mTerjadi kesalahan\u001b[39m\u001b[38;5;124m\"\u001b[39m,err)\n\u001b[0;32m     16\u001b[0m \u001b[38;5;28;01melse\u001b[39;00m:\n",
      "\u001b[1;31mNameError\u001b[0m: name 'UnurException' is not defined"
     ]
    }
   ],
   "source": [
    "#Costum Exception\n",
    "# Tiket film, umur harus >= 17\n",
    "\n",
    "class UmurException(Exception):\n",
    "    pass\n",
    "\n",
    "def cekkUmur(Umur):\n",
    "    if umur < 17:\n",
    "        raise UmurException(\"Umur harus lebih dari 16\")\n",
    "\n",
    "try:\n",
    "    umur = int(input(\"Isikan Umur:\"))\n",
    "    cekUmur(umur)\n",
    "except (ValueError,UnurException) as err:\n",
    "    print(\"Terjadi kesalahan\",err)\n",
    "else:\n",
    "    print(\"Umur anda valid\")\n",
    "finally:\n",
    "    print(\"Cek Umur selesai dikerjakan!!\")"
   ]
  },
  {
   "cell_type": "code",
   "execution_count": 5,
   "id": "440bd3e3-3c30-4e6c-88a8-5dac22fed9c5",
   "metadata": {},
   "outputs": [
    {
     "name": "stdout",
     "output_type": "stream",
     "text": [
      "Kesalahan mengakses nama atribut\n"
     ]
    }
   ],
   "source": [
    "#Data dari database -> dict\n",
    "\n",
    "try:\n",
    "    dataSiswa = {\n",
    "        \"nim\" : '20240040178',\n",
    "        \"nama\" : \"Putra\",\n",
    "        \"alamat\" : \"Ciaul\"\n",
    "    }\n",
    "\n",
    "    print(dataSiswa[\"kelas\"])\n",
    "except KeyError:\n",
    "    print(\"Kesalahan mengakses nama atribut\")"
   ]
  },
  {
   "cell_type": "code",
   "execution_count": 19,
   "id": "daf3cf9d-4823-4bbb-b349-66d8901a67bb",
   "metadata": {},
   "outputs": [
    {
     "name": "stdout",
     "output_type": "stream",
     "text": [
      "Usia,Transaksi,Label,Gender\n",
      "33,25,1,L\n",
      "21,17,0,L\n",
      "38,0,1,P\n",
      "19,12,1,P\n",
      "22,24,1,L\n",
      "24,30,0,L\n",
      "18,50,1,P\n",
      "24,30,0,P\n",
      "53,44,0,L\n",
      "29,38,1,L\n",
      "43,47,0,P\n",
      "45,15,1,P\n",
      "60,43,1,L\n",
      "55,16,0,L\n",
      "19,25,0,P\n",
      "34,6,0,L\n",
      "21,33,0,L\n",
      "20,48,1,L\n",
      "47,13,1,P\n",
      "45,24,0,L\n",
      "43,45,1,P\n",
      "31,44,0,L\n",
      "51,18,1,L\n",
      "46,48,0,P\n",
      "26,31,1,L\n",
      "25,30,0,L\n",
      "39,4,0,L\n",
      "45,45,1,P\n",
      "21,34,0,P\n",
      "46,2,1,P\n",
      "39,38,0,P\n",
      "38,50,1,P\n",
      "34,41,0,P\n",
      "51,39,0,P\n",
      "58,36,1,L\n",
      "39,21,1,L\n",
      "53,39,0,P\n",
      "41,46,1,L\n",
      "23,13,0,L\n",
      "54,10,0,P\n",
      "25,25,1,L\n",
      "53,13,0,P\n",
      "51,44,0,L\n",
      "29,22,1,P\n",
      "18,27,1,L\n",
      "38,35,0,P\n",
      "45,16,0,P\n",
      "43,38,0,P\n",
      "45,9,0,P\n",
      "25,14,1,L\n",
      "47,48,1,L\n",
      "55,32,1,L\n",
      "35,19,0,P\n",
      "27,45,0,L\n",
      "32,1,1,P\n",
      "53,6,1,L\n",
      "41,8,0,P\n",
      "59,3,0,P\n",
      "60,17,1,P\n",
      "51,3,0,P\n",
      "54,32,1,L\n",
      "53,5,0,L\n",
      "54,23,0,L\n",
      "37,45,0,P\n",
      "47,0,0,L\n",
      "59,6,0,P\n",
      "50,35,1,L\n",
      "23,9,0,L\n",
      "42,37,0,P\n",
      "20,27,0,P\n",
      "44,25,0,P\n",
      "26,32,1,P\n",
      "25,41,1,P\n",
      "42,20,0,L\n",
      "48,30,1,L\n",
      "21,15,1,L\n",
      "53,38,1,P\n",
      "40,25,0,P\n",
      "35,40,1,P\n",
      "27,26,0,L\n",
      "58,17,0,P\n",
      "52,20,0,L\n",
      "36,41,0,L\n",
      "32,13,0,L\n",
      "45,33,1,L\n",
      "48,23,0,P\n",
      "38,3,1,P\n",
      "32,31,0,P\n",
      "56,3,1,P\n",
      "33,40,1,L\n",
      "51,32,0,L\n",
      "37,31,0,L\n",
      "53,41,1,L\n",
      "46,36,0,P\n",
      "43,42,1,P\n",
      "52,13,0,P\n",
      "55,26,1,L\n",
      "47,24,1,P\n",
      "21,0,1,P\n",
      "35,11,0,L\n",
      "\n"
     ]
    }
   ],
   "source": [
    "try:\n",
    "    file = open(\"dataLatih.csv\",'r')\n",
    "    konten = file.read()\n",
    "except FileNotFoundError:\n",
    "    print(\"File Tidak Ditemukan!!\")\n",
    "else:\n",
    "    print(konten)\n",
    "finally:\n",
    "    file.close()"
   ]
  },
  {
   "cell_type": "code",
   "execution_count": 17,
   "id": "5efa1074-94bc-46b6-b7b4-05421a0e05dd",
   "metadata": {},
   "outputs": [],
   "source": [
    "try:\n",
    "    with open(\"data.txt\", 'w') as file:\n",
    "        file.write(\"Hello, Apa kabar!!\\n\")\n",
    "        file.write(\"Minggu depan UAS\\n\")\n",
    "except FileNotFoundError:\n",
    "    print(\"File tidak ditemukan!!\")"
   ]
  },
  {
   "cell_type": "code",
   "execution_count": null,
   "id": "ff1245bf-2545-4da5-9187-f98c8995409f",
   "metadata": {},
   "outputs": [],
   "source": []
  }
 ],
 "metadata": {
  "kernelspec": {
   "display_name": "Python [conda env:anaconda3] *",
   "language": "python",
   "name": "conda-env-anaconda3-py"
  },
  "language_info": {
   "codemirror_mode": {
    "name": "ipython",
    "version": 3
   },
   "file_extension": ".py",
   "mimetype": "text/x-python",
   "name": "python",
   "nbconvert_exporter": "python",
   "pygments_lexer": "ipython3",
   "version": "3.12.7"
  }
 },
 "nbformat": 4,
 "nbformat_minor": 5
}
