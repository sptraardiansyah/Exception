{
 "cells": [
  {
   "cell_type": "code",
   "execution_count": 1,
   "id": "3b64c173-2c10-4158-b0cb-8ff604f7f54c",
   "metadata": {},
   "outputs": [],
   "source": [
    "def aritmetik():\n",
    "    num1 = int(input(\"Masukan angka pertama:\"))\n",
    "    num2 = int(input(\"Masukan angka kedua:\"))\n",
    "    print(\"\"\"\n",
    "    Pilih Metode:\n",
    "    1. Penjumlahan\n",
    "    2. Perkalian\n",
    "    3. Perpangkatan\n",
    "    \"\"\")\n",
    "    choice = int(input(\"(1/2/3):\"))\n",
    "    if choice == 1:\n",
    "        r1 = math.add(num1,num2)\n",
    "        print(r1)\n",
    "    elif choice == 2:\n",
    "        r2 = math.multiply(num1,num2)\n",
    "        print(r2)\n",
    "    elif choice == 3:\n",
    "        r3 == math.pow(num1,num2)\n",
    "        print(r3)\n",
    "    else:\n",
    "        print(\"Input tidak valid!\")"
   ]
  },
  {
   "cell_type": "code",
   "execution_count": 2,
   "id": "c8b1373b-f4a2-457d-850b-d9a7df494f29",
   "metadata": {},
   "outputs": [],
   "source": [
    "def conv():\n",
    "    print(\"\"\"\n",
    "    Pilih Metode:\n",
    "    1. M to CM\n",
    "    2. CM to M\n",
    "    \"\"\")\n",
    "    choice = int(input(\"(1/2):\"))\n",
    "    if choice == 1:\n",
    "        meter = int(input(\"Masukan nilai meter: \"))\n",
    "        r1 = convert.meterToCm(meter)\n",
    "        print(f\"Panjang dalam cm: {r1}\")\n",
    "    elif choice == 2:\n",
    "        cm = int(input(\"Masukan nilai cm: \"))\n",
    "        r2 = convert.cmToMeter(cm)\n",
    "        print(f\"Panjang dalam meter: {r2}\")\n",
    "    else:\n",
    "        print(\"Input tidak valid!\")"
   ]
  },
  {
   "cell_type": "code",
   "execution_count": 3,
   "id": "46b9a45d-27ba-40d1-a367-64686222e524",
   "metadata": {},
   "outputs": [],
   "source": [
    "def change():\n",
    "    decim = int(input(\"Masukan Bilangan Desimal: \"))\n",
    "    print(\"\"\"\n",
    "    Pilih Metode:\n",
    "    1. Decimal to Biner\n",
    "    2. Decimal to Octal\n",
    "    3. Decimal to Hexa\n",
    "    \"\"\")\n",
    "    choice = int(input(\"(1/2/3): \"))\n",
    "    if choice == 1:\n",
    "        r1 = ceng.binary(decim)\n",
    "        print(f\"Desimal ke biner adalah: {r1}\")\n",
    "    elif choice == 2:\n",
    "        r1 = ceng.octal(decim)\n",
    "        print(f\"Desimal ke octal adalah: {r1}\")\n",
    "    elif choice == 3:\n",
    "        r1 = ceng.hexa(decim)\n",
    "        print(f\"Desimal ke hexa adalah: {r1}\")\n",
    "    else:\n",
    "        print(\"Input tidak valid\")"
   ]
  },
  {
   "cell_type": "code",
   "execution_count": 6,
   "id": "320f6d14-e6f9-487e-bef2-ffadeb06bf7a",
   "metadata": {},
   "outputs": [
    {
     "ename": "ModuleNotFoundError",
     "evalue": "No module named 'aritmatika'",
     "output_type": "error",
     "traceback": [
      "\u001b[1;31m---------------------------------------------------------------------------\u001b[0m",
      "\u001b[1;31mModuleNotFoundError\u001b[0m                       Traceback (most recent call last)",
      "Cell \u001b[1;32mIn[6], line 1\u001b[0m\n\u001b[1;32m----> 1\u001b[0m \u001b[38;5;28;01mimport\u001b[39;00m \u001b[38;5;21;01maritmatika\u001b[39;00m\u001b[38;5;21;01m.\u001b[39;00m\u001b[38;5;21;01mmath\u001b[39;00m \u001b[38;5;28;01mas\u001b[39;00m \u001b[38;5;21;01mmath\u001b[39;00m\n\u001b[0;32m      2\u001b[0m \u001b[38;5;28;01mimport\u001b[39;00m \u001b[38;5;21;01mkonversi\u001b[39;00m\u001b[38;5;21;01m.\u001b[39;00m\u001b[38;5;21;01mconvert\u001b[39;00m \u001b[38;5;28;01mas\u001b[39;00m \u001b[38;5;21;01mconvert\u001b[39;00m\n\u001b[0;32m      3\u001b[0m \u001b[38;5;28;01mimport\u001b[39;00m \u001b[38;5;21;01mubah\u001b[39;00m\u001b[38;5;21;01m.\u001b[39;00m\u001b[38;5;21;01mchange\u001b[39;00m \u001b[38;5;28;01mas\u001b[39;00m \u001b[38;5;21;01mceng\u001b[39;00m\n",
      "\u001b[1;31mModuleNotFoundError\u001b[0m: No module named 'aritmatika'"
     ]
    }
   ],
   "source": [
    "import aritmatika.math as math\n",
    "import konversi.convert as convert\n",
    "import ubah.change as ceng\n",
    "\n",
    "while True:\n",
    "    print(\"\"\"\n",
    "\n",
    "    Pilih Kegiatan:\n",
    "    1. Aritmatika\n",
    "    2. Konversi\n",
    "    3. Ubah bilangan\n",
    "    4. Exit\n",
    "    \"\"\")\n",
    "    choice = int(input(\"Masukan input(1/2/3/4):\\n\"))\n",
    "    if choice == 1:\n",
    "        aritmetik()\n",
    "    elif choice == 2:\n",
    "        conv()\n",
    "    elif choice == 3:\n",
    "        change()\n",
    "    elif choice == 4:\n",
    "        print(\"Terimakasih sudah menggunakan menu!\")\n",
    "        break\n",
    "    else:\n",
    "        print(\"Input tidak valid!\")"
   ]
  },
  {
   "cell_type": "code",
   "execution_count": null,
   "id": "b7a9f587-ca78-471f-ba84-cc2375c32516",
   "metadata": {},
   "outputs": [],
   "source": []
  }
 ],
 "metadata": {
  "kernelspec": {
   "display_name": "Python [conda env:anaconda3] *",
   "language": "python",
   "name": "conda-env-anaconda3-py"
  },
  "language_info": {
   "codemirror_mode": {
    "name": "ipython",
    "version": 3
   },
   "file_extension": ".py",
   "mimetype": "text/x-python",
   "name": "python",
   "nbconvert_exporter": "python",
   "pygments_lexer": "ipython3",
   "version": "3.12.7"
  }
 },
 "nbformat": 4,
 "nbformat_minor": 5
}
